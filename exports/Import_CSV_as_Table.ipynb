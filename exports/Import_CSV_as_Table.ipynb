{
  "nbformat": 4,
  "nbformat_minor": 0,
  "metadata": {
    "colab": {
      "provenance": []
    },
    "kernelspec": {
      "name": "python3",
      "display_name": "Python 3"
    },
    "language_info": {
      "name": "python"
    }
  },
  "cells": [
    {
      "cell_type": "code",
      "source": [
        "import pandas as pd\n",
        "file_name = 'student.csv'\n",
        "\n",
        "df = pd.read_csv(file_name)\n",
        "df"
      ],
      "metadata": {
        "colab": {
          "base_uri": "https://localhost:8080/",
          "height": 206
        },
        "id": "pWhC_YJMG25w",
        "outputId": "fcc7e215-a74c-4078-e85d-a723e09d10a4"
      },
      "execution_count": 1,
      "outputs": [
        {
          "output_type": "execute_result",
          "data": {
            "text/plain": [
              "   id  fname  age              email      phone\n",
              "0   1   Amit   20     amit@gmail.com  999999999\n",
              "1   2  Rahul   22    rahul@yahoo.com  888888888\n",
              "2   3  Priya   21  priya@hotmail.com  777777777\n",
              "3   4  Sonia   23    sonia@gmail.com  666666666\n",
              "4   5  Kiran   19    kiran@yahoo.com  555555555"
            ],
            "text/html": [
              "\n",
              "  <div id=\"df-dcacc524-347b-4620-b487-cadfd7299832\">\n",
              "    <div class=\"colab-df-container\">\n",
              "      <div>\n",
              "<style scoped>\n",
              "    .dataframe tbody tr th:only-of-type {\n",
              "        vertical-align: middle;\n",
              "    }\n",
              "\n",
              "    .dataframe tbody tr th {\n",
              "        vertical-align: top;\n",
              "    }\n",
              "\n",
              "    .dataframe thead th {\n",
              "        text-align: right;\n",
              "    }\n",
              "</style>\n",
              "<table border=\"1\" class=\"dataframe\">\n",
              "  <thead>\n",
              "    <tr style=\"text-align: right;\">\n",
              "      <th></th>\n",
              "      <th>id</th>\n",
              "      <th>fname</th>\n",
              "      <th>age</th>\n",
              "      <th>email</th>\n",
              "      <th>phone</th>\n",
              "    </tr>\n",
              "  </thead>\n",
              "  <tbody>\n",
              "    <tr>\n",
              "      <th>0</th>\n",
              "      <td>1</td>\n",
              "      <td>Amit</td>\n",
              "      <td>20</td>\n",
              "      <td>amit@gmail.com</td>\n",
              "      <td>999999999</td>\n",
              "    </tr>\n",
              "    <tr>\n",
              "      <th>1</th>\n",
              "      <td>2</td>\n",
              "      <td>Rahul</td>\n",
              "      <td>22</td>\n",
              "      <td>rahul@yahoo.com</td>\n",
              "      <td>888888888</td>\n",
              "    </tr>\n",
              "    <tr>\n",
              "      <th>2</th>\n",
              "      <td>3</td>\n",
              "      <td>Priya</td>\n",
              "      <td>21</td>\n",
              "      <td>priya@hotmail.com</td>\n",
              "      <td>777777777</td>\n",
              "    </tr>\n",
              "    <tr>\n",
              "      <th>3</th>\n",
              "      <td>4</td>\n",
              "      <td>Sonia</td>\n",
              "      <td>23</td>\n",
              "      <td>sonia@gmail.com</td>\n",
              "      <td>666666666</td>\n",
              "    </tr>\n",
              "    <tr>\n",
              "      <th>4</th>\n",
              "      <td>5</td>\n",
              "      <td>Kiran</td>\n",
              "      <td>19</td>\n",
              "      <td>kiran@yahoo.com</td>\n",
              "      <td>555555555</td>\n",
              "    </tr>\n",
              "  </tbody>\n",
              "</table>\n",
              "</div>\n",
              "      <button class=\"colab-df-convert\" onclick=\"convertToInteractive('df-dcacc524-347b-4620-b487-cadfd7299832')\"\n",
              "              title=\"Convert this dataframe to an interactive table.\"\n",
              "              style=\"display:none;\">\n",
              "        \n",
              "  <svg xmlns=\"http://www.w3.org/2000/svg\" height=\"24px\"viewBox=\"0 0 24 24\"\n",
              "       width=\"24px\">\n",
              "    <path d=\"M0 0h24v24H0V0z\" fill=\"none\"/>\n",
              "    <path d=\"M18.56 5.44l.94 2.06.94-2.06 2.06-.94-2.06-.94-.94-2.06-.94 2.06-2.06.94zm-11 1L8.5 8.5l.94-2.06 2.06-.94-2.06-.94L8.5 2.5l-.94 2.06-2.06.94zm10 10l.94 2.06.94-2.06 2.06-.94-2.06-.94-.94-2.06-.94 2.06-2.06.94z\"/><path d=\"M17.41 7.96l-1.37-1.37c-.4-.4-.92-.59-1.43-.59-.52 0-1.04.2-1.43.59L10.3 9.45l-7.72 7.72c-.78.78-.78 2.05 0 2.83L4 21.41c.39.39.9.59 1.41.59.51 0 1.02-.2 1.41-.59l7.78-7.78 2.81-2.81c.8-.78.8-2.07 0-2.86zM5.41 20L4 18.59l7.72-7.72 1.47 1.35L5.41 20z\"/>\n",
              "  </svg>\n",
              "      </button>\n",
              "      \n",
              "  <style>\n",
              "    .colab-df-container {\n",
              "      display:flex;\n",
              "      flex-wrap:wrap;\n",
              "      gap: 12px;\n",
              "    }\n",
              "\n",
              "    .colab-df-convert {\n",
              "      background-color: #E8F0FE;\n",
              "      border: none;\n",
              "      border-radius: 50%;\n",
              "      cursor: pointer;\n",
              "      display: none;\n",
              "      fill: #1967D2;\n",
              "      height: 32px;\n",
              "      padding: 0 0 0 0;\n",
              "      width: 32px;\n",
              "    }\n",
              "\n",
              "    .colab-df-convert:hover {\n",
              "      background-color: #E2EBFA;\n",
              "      box-shadow: 0px 1px 2px rgba(60, 64, 67, 0.3), 0px 1px 3px 1px rgba(60, 64, 67, 0.15);\n",
              "      fill: #174EA6;\n",
              "    }\n",
              "\n",
              "    [theme=dark] .colab-df-convert {\n",
              "      background-color: #3B4455;\n",
              "      fill: #D2E3FC;\n",
              "    }\n",
              "\n",
              "    [theme=dark] .colab-df-convert:hover {\n",
              "      background-color: #434B5C;\n",
              "      box-shadow: 0px 1px 3px 1px rgba(0, 0, 0, 0.15);\n",
              "      filter: drop-shadow(0px 1px 2px rgba(0, 0, 0, 0.3));\n",
              "      fill: #FFFFFF;\n",
              "    }\n",
              "  </style>\n",
              "\n",
              "      <script>\n",
              "        const buttonEl =\n",
              "          document.querySelector('#df-dcacc524-347b-4620-b487-cadfd7299832 button.colab-df-convert');\n",
              "        buttonEl.style.display =\n",
              "          google.colab.kernel.accessAllowed ? 'block' : 'none';\n",
              "\n",
              "        async function convertToInteractive(key) {\n",
              "          const element = document.querySelector('#df-dcacc524-347b-4620-b487-cadfd7299832');\n",
              "          const dataTable =\n",
              "            await google.colab.kernel.invokeFunction('convertToInteractive',\n",
              "                                                     [key], {});\n",
              "          if (!dataTable) return;\n",
              "\n",
              "          const docLinkHtml = 'Like what you see? Visit the ' +\n",
              "            '<a target=\"_blank\" href=https://colab.research.google.com/notebooks/data_table.ipynb>data table notebook</a>'\n",
              "            + ' to learn more about interactive tables.';\n",
              "          element.innerHTML = '';\n",
              "          dataTable['output_type'] = 'display_data';\n",
              "          await google.colab.output.renderOutput(dataTable, element);\n",
              "          const docLink = document.createElement('div');\n",
              "          docLink.innerHTML = docLinkHtml;\n",
              "          element.appendChild(docLink);\n",
              "        }\n",
              "      </script>\n",
              "    </div>\n",
              "  </div>\n",
              "  "
            ]
          },
          "metadata": {},
          "execution_count": 1
        }
      ]
    },
    {
      "cell_type": "code",
      "source": [
        "table = file_name.split('.')[0]\n",
        "table"
      ],
      "metadata": {
        "colab": {
          "base_uri": "https://localhost:8080/",
          "height": 36
        },
        "id": "36Ol7DaLJuui",
        "outputId": "5c8a186b-1ccd-482f-849d-dbd62339e999"
      },
      "execution_count": 2,
      "outputs": [
        {
          "output_type": "execute_result",
          "data": {
            "text/plain": [
              "'student'"
            ],
            "application/vnd.google.colaboratory.intrinsic+json": {
              "type": "string"
            }
          },
          "metadata": {},
          "execution_count": 2
        }
      ]
    },
    {
      "cell_type": "code",
      "source": [
        "x = ''\n",
        "\n",
        "for i in df.columns:\n",
        "  x += i + ' VARCHAR(100),\\n'\n",
        "\n",
        "x += '\\b\\b'\n",
        "print(x)"
      ],
      "metadata": {
        "colab": {
          "base_uri": "https://localhost:8080/"
        },
        "id": "-N9QvKuHK0Q6",
        "outputId": "f9eb2fef-e3d9-4f92-95d4-b785c23cd24f"
      },
      "execution_count": 3,
      "outputs": [
        {
          "output_type": "stream",
          "name": "stdout",
          "text": [
            "id VARCHAR(100),\n",
            "fname VARCHAR(100),\n",
            "age VARCHAR(100),\n",
            "email VARCHAR(100),\n",
            "phone VARCHAR(100),\n",
            "\b\b\n"
          ]
        }
      ]
    },
    {
      "cell_type": "code",
      "source": [
        "y = ''\n",
        "for row in df.iterrows():\n",
        "  y += '('\n",
        "  for j in row[1]:\n",
        "    y += f\"'{j}', \"\n",
        "  y += '\\b\\b),\\n'\n",
        "\n",
        "y += '\\b'\n",
        "print(y)"
      ],
      "metadata": {
        "colab": {
          "base_uri": "https://localhost:8080/"
        },
        "id": "0BPp_QKBXQIr",
        "outputId": "085f6b18-0457-4e2f-da36-6cab6165eafe"
      },
      "execution_count": 4,
      "outputs": [
        {
          "output_type": "stream",
          "name": "stdout",
          "text": [
            "('1', 'Amit', '20', 'amit@gmail.com', '999999999', \b\b),\n",
            "('2', 'Rahul', '22', 'rahul@yahoo.com', '888888888', \b\b),\n",
            "('3', 'Priya', '21', 'priya@hotmail.com', '777777777', \b\b),\n",
            "('4', 'Sonia', '23', 'sonia@gmail.com', '666666666', \b\b),\n",
            "('5', 'Kiran', '19', 'kiran@yahoo.com', '555555555', \b\b),\n",
            "\b\n"
          ]
        }
      ]
    },
    {
      "cell_type": "code",
      "source": [
        "z = ''\n",
        "for i in df.columns:\n",
        "  z += f\"{i}, \"\n",
        "\n",
        "z += '\\b\\b'\n",
        "print(z)"
      ],
      "metadata": {
        "colab": {
          "base_uri": "https://localhost:8080/"
        },
        "id": "QApCZHMKSJ_m",
        "outputId": "b10de556-103a-470a-ba86-af895677f164"
      },
      "execution_count": 5,
      "outputs": [
        {
          "output_type": "stream",
          "name": "stdout",
          "text": [
            "id, fname, age, email, phone, \b\b\n"
          ]
        }
      ]
    },
    {
      "cell_type": "code",
      "source": [
        "vicks = f'''%%sql\n",
        "-- DROP TABLE {table};\n",
        "\n",
        "CREATE TABLE {table} (\n",
        "{x}\n",
        ");\n",
        "\n",
        "INSERT INTO {table} ({z})\n",
        "VALUES\n",
        "{y}\\b;\n",
        "\n",
        "SELECT * FROM {table};'''\n",
        "print(vicks)"
      ],
      "metadata": {
        "colab": {
          "base_uri": "https://localhost:8080/"
        },
        "id": "dux4Tp90Hoxc",
        "outputId": "b69ffabb-0c30-413d-eabc-2f535d45fd1b"
      },
      "execution_count": 6,
      "outputs": [
        {
          "output_type": "stream",
          "name": "stdout",
          "text": [
            "%%sql\n",
            "-- DROP TABLE student;\n",
            "\n",
            "CREATE TABLE student (\n",
            "id VARCHAR(100),\n",
            "fname VARCHAR(100),\n",
            "age VARCHAR(100),\n",
            "email VARCHAR(100),\n",
            "phone VARCHAR(100),\n",
            "\b\b\n",
            ");\n",
            "\n",
            "INSERT INTO student (id, fname, age, email, phone, \b\b)\n",
            "VALUES\n",
            "('1', 'Amit', '20', 'amit@gmail.com', '999999999', \b\b),\n",
            "('2', 'Rahul', '22', 'rahul@yahoo.com', '888888888', \b\b),\n",
            "('3', 'Priya', '21', 'priya@hotmail.com', '777777777', \b\b),\n",
            "('4', 'Sonia', '23', 'sonia@gmail.com', '666666666', \b\b),\n",
            "('5', 'Kiran', '19', 'kiran@yahoo.com', '555555555', \b\b),\n",
            "\b\b;\n",
            "\n",
            "SELECT * FROM student;\n"
          ]
        }
      ]
    },
    {
      "cell_type": "code",
      "source": [
        "!pip install \"SQLAlchemy<1.4\""
      ],
      "metadata": {
        "colab": {
          "base_uri": "https://localhost:8080/"
        },
        "id": "1PM9rw0MMOZR",
        "outputId": "875dfa97-c917-4a97-e194-f95f1beced40"
      },
      "execution_count": 7,
      "outputs": [
        {
          "output_type": "stream",
          "name": "stdout",
          "text": [
            "Looking in indexes: https://pypi.org/simple, https://us-python.pkg.dev/colab-wheels/public/simple/\n",
            "Requirement already satisfied: SQLAlchemy<1.4 in /usr/local/lib/python3.10/dist-packages (1.3.24)\n"
          ]
        }
      ]
    },
    {
      "cell_type": "code",
      "source": [
        "%load_ext sql"
      ],
      "metadata": {
        "id": "-1dWccG8RUGQ"
      },
      "execution_count": 8,
      "outputs": []
    },
    {
      "cell_type": "code",
      "source": [
        "%%sql sqlite:///testDB.db"
      ],
      "metadata": {
        "id": "z74JvAX7RWC-"
      },
      "execution_count": 9,
      "outputs": []
    },
    {
      "cell_type": "code",
      "source": [
        "def transform(file_name = 'student.csv'):\n",
        "  import pandas as pd\n",
        "\n",
        "  df = pd.read_csv(file_name)\n",
        "  table = file_name.split('.')[0]\n",
        "  x = ''\n",
        "\n",
        "  for i in df.columns:\n",
        "    x += i + ' VARCHAR(100),\\n'\n",
        "\n",
        "  x += '\\b\\b'\n",
        "  y = ''\n",
        "  for row in df.iterrows():\n",
        "    y += '('\n",
        "    for j in row[1]:\n",
        "      y += f\"'{j}', \"\n",
        "    y += '\\b\\b),\\n'\n",
        "\n",
        "  y += '\\b'\n",
        "  z = ''\n",
        "  for i in df.columns:\n",
        "    z += f\"{i}, \"\n",
        "\n",
        "  z += '\\b\\b'\n",
        "  return f'''%%sql\n",
        "/*\n",
        "!pip install \"SQLAlchemy<1.4\"\n",
        "\n",
        "%reload_ext sql\n",
        "\n",
        "%%sql sqlite:///vicks.db\n",
        "*/\n",
        "\n",
        "-- DROP TABLE {table};\n",
        "\n",
        "CREATE TABLE {table} (\n",
        "{x}\n",
        ");\n",
        "\n",
        "INSERT INTO {table} ({z})\n",
        "VALUES\n",
        "{y}\\b;\n",
        "\n",
        "SELECT * FROM {table};'''"
      ],
      "metadata": {
        "id": "VQQIX2JhRuJT"
      },
      "execution_count": 10,
      "outputs": []
    },
    {
      "cell_type": "code",
      "source": [
        "print(transform('student.csv'))"
      ],
      "metadata": {
        "colab": {
          "base_uri": "https://localhost:8080/"
        },
        "id": "NBBbOAy8UHNz",
        "outputId": "cf419a48-0b92-467d-aae6-c2f7adff36bd"
      },
      "execution_count": 11,
      "outputs": [
        {
          "output_type": "stream",
          "name": "stdout",
          "text": [
            "%%sql\n",
            "/*\n",
            "!pip install \"SQLAlchemy<1.4\"\n",
            "\n",
            "%reload_ext sql\n",
            "\n",
            "%%sql sqlite:///vicks.db\n",
            "*/\n",
            "\n",
            "-- DROP TABLE student;\n",
            "\n",
            "CREATE TABLE student (\n",
            "id VARCHAR(100),\n",
            "fname VARCHAR(100),\n",
            "age VARCHAR(100),\n",
            "email VARCHAR(100),\n",
            "phone VARCHAR(100),\n",
            "\b\b\n",
            ");\n",
            "\n",
            "INSERT INTO student (id, fname, age, email, phone, \b\b)\n",
            "VALUES\n",
            "('1', 'Amit', '20', 'amit@gmail.com', '999999999', \b\b),\n",
            "('2', 'Rahul', '22', 'rahul@yahoo.com', '888888888', \b\b),\n",
            "('3', 'Priya', '21', 'priya@hotmail.com', '777777777', \b\b),\n",
            "('4', 'Sonia', '23', 'sonia@gmail.com', '666666666', \b\b),\n",
            "('5', 'Kiran', '19', 'kiran@yahoo.com', '555555555', \b\b),\n",
            "\b\b;\n",
            "\n",
            "SELECT * FROM student;\n"
          ]
        }
      ]
    },
    {
      "cell_type": "code",
      "source": [
        "%%sql\n",
        "/*\n",
        "!pip install \"SQLAlchemy<1.4\"\n",
        "\n",
        "%reload_ext sql\n",
        "\n",
        "%%sql sqlite:///vicks.db\n",
        "*/\n",
        "\n",
        "-- DROP TABLE student;\n",
        "\n",
        "CREATE TABLE student (\n",
        "id VARCHAR(100),\n",
        "fname VARCHAR(100),\n",
        "age VARCHAR(100),\n",
        "email VARCHAR(100),\n",
        "phone VARCHAR(100)\n",
        ");\n",
        "\n",
        "INSERT INTO student (id, fname, age, email, phone)\n",
        "VALUES\n",
        "('1', 'Amit', '20', 'amit@gmail.com', '999999999'),\n",
        "('2', 'Rahul', '22', 'rahul@yahoo.com', '888888888'),\n",
        "('3', 'Priya', '21', 'priya@hotmail.com', '777777777'),\n",
        "('4', 'Sonia', '23', 'sonia@gmail.com', '666666666'),\n",
        "('5', 'Kiran', '19', 'kiran@yahoo.com', '555555555');\n",
        "\n",
        "SELECT * FROM student;"
      ],
      "metadata": {
        "colab": {
          "base_uri": "https://localhost:8080/"
        },
        "id": "XbatQL_rUOPt",
        "outputId": "0c4198d9-4805-42eb-db29-6e9b4e318728"
      },
      "execution_count": 12,
      "outputs": [
        {
          "output_type": "stream",
          "name": "stdout",
          "text": [
            " * sqlite:///testDB.db\n",
            "(sqlite3.OperationalError) table student already exists\n",
            "[SQL: /*\n",
            "!pip install \"SQLAlchemy<1.4\"\n",
            "\n",
            "%reload_ext sql\n",
            "\n",
            "%%sql sqlite:///vicks.db\n",
            "*/\n",
            "\n",
            "-- DROP TABLE student;\n",
            "\n",
            "CREATE TABLE student (\n",
            "id VARCHAR(100),\n",
            "fname VARCHAR(100),\n",
            "age VARCHAR(100),\n",
            "email VARCHAR(100),\n",
            "phone VARCHAR(100)\n",
            ");]\n",
            "(Background on this error at: http://sqlalche.me/e/13/e3q8)\n"
          ]
        }
      ]
    },
    {
      "cell_type": "code",
      "source": [
        "print(transform('employee.csv'))"
      ],
      "metadata": {
        "colab": {
          "base_uri": "https://localhost:8080/"
        },
        "id": "-7ggBTLcVflb",
        "outputId": "ca4003a8-4854-411a-ae79-d4c460dea416"
      },
      "execution_count": 13,
      "outputs": [
        {
          "output_type": "stream",
          "name": "stdout",
          "text": [
            "%%sql\n",
            "/*\n",
            "!pip install \"SQLAlchemy<1.4\"\n",
            "\n",
            "%reload_ext sql\n",
            "\n",
            "%%sql sqlite:///vicks.db\n",
            "*/\n",
            "\n",
            "-- DROP TABLE employee;\n",
            "\n",
            "CREATE TABLE employee (\n",
            "employee_id VARCHAR(100),\n",
            "employee_name VARCHAR(100),\n",
            "salary VARCHAR(100),\n",
            "\b\b\n",
            ");\n",
            "\n",
            "INSERT INTO employee (employee_id, employee_name, salary, \b\b)\n",
            "VALUES\n",
            "('1', 'Shubham', '25000', \b\b),\n",
            "('2', 'Aman', '55100', \b\b),\n",
            "('3', 'Naveen', '52100', \b\b),\n",
            "('4', 'Aditya', '12412', \b\b),\n",
            "('5', 'Nishant', '62202', \b\b),\n",
            "\b\b;\n",
            "\n",
            "SELECT * FROM employee;\n"
          ]
        }
      ]
    },
    {
      "cell_type": "code",
      "source": [
        "%%sql\n",
        "/*\n",
        "!pip install \"SQLAlchemy<1.4\"\n",
        "\n",
        "%reload_ext sql\n",
        "\n",
        "%%sql sqlite:///vicks.db\n",
        "*/\n",
        "\n",
        "-- DROP TABLE employee;\n",
        "\n",
        "CREATE TABLE employee (\n",
        "employee_id VARCHAR(100),\n",
        "employee_name VARCHAR(100),\n",
        "salary VARCHAR(100)\n",
        ");\n",
        "\n",
        "INSERT INTO employee (employee_id, employee_name, salary)\n",
        "VALUES\n",
        "('1', 'Shubham', '25000'),\n",
        "('2', 'Aman', '55100'),\n",
        "('3', 'Naveen', '52100'),\n",
        "('4', 'Aditya', '12412'),\n",
        "('5', 'Nishant', '62202');\n",
        "\n",
        "SELECT * FROM employee;"
      ],
      "metadata": {
        "colab": {
          "base_uri": "https://localhost:8080/"
        },
        "id": "Df8xM-O9amXb",
        "outputId": "e29f0b0a-e82d-47c8-e389-01e0d687f1b8"
      },
      "execution_count": 14,
      "outputs": [
        {
          "output_type": "stream",
          "name": "stdout",
          "text": [
            " * sqlite:///testDB.db\n",
            "(sqlite3.OperationalError) table employee already exists\n",
            "[SQL: /*\n",
            "!pip install \"SQLAlchemy<1.4\"\n",
            "\n",
            "%reload_ext sql\n",
            "\n",
            "%%sql sqlite:///vicks.db\n",
            "*/\n",
            "\n",
            "-- DROP TABLE employee;\n",
            "\n",
            "CREATE TABLE employee (\n",
            "employee_id VARCHAR(100),\n",
            "employee_name VARCHAR(100),\n",
            "salary VARCHAR(100)\n",
            ");]\n",
            "(Background on this error at: http://sqlalche.me/e/13/e3q8)\n"
          ]
        }
      ]
    },
    {
      "cell_type": "code",
      "source": [
        "print(transform('customer.csv'))"
      ],
      "metadata": {
        "colab": {
          "base_uri": "https://localhost:8080/"
        },
        "id": "flOM0RafaoRx",
        "outputId": "7b9ed5f4-f98c-40d1-8b45-6ba3d9a7d66e"
      },
      "execution_count": 15,
      "outputs": [
        {
          "output_type": "stream",
          "name": "stdout",
          "text": [
            "%%sql\n",
            "/*\n",
            "!pip install \"SQLAlchemy<1.4\"\n",
            "\n",
            "%reload_ext sql\n",
            "\n",
            "%%sql sqlite:///vicks.db\n",
            "*/\n",
            "\n",
            "-- DROP TABLE customer;\n",
            "\n",
            "CREATE TABLE customer (\n",
            "customer_id VARCHAR(100),\n",
            "customername VARCHAR(100),\n",
            "lastname VARCHAR(100),\n",
            "country VARCHAR(100),\n",
            "age VARCHAR(100),\n",
            "phone VARCHAR(100),\n",
            "\b\b\n",
            ");\n",
            "\n",
            "INSERT INTO customer (customer_id, customername, lastname, country, age, phone, \b\b)\n",
            "VALUES\n",
            "('1', 'Shubham', 'Thakur', 'India', '23', 'xxxxxxxxxx', \b\b),\n",
            "('2', 'Aman', 'Chopra', 'Australia', '21', 'xxxxxxxxxx', \b\b),\n",
            "('3', 'Naveen', 'Tulasi', 'Sri Lanka', '24', 'xxxxxxxxxx', \b\b),\n",
            "('4', 'Aditya', 'Arpan', 'Austria', '21', 'xxxxxxxxxx', \b\b),\n",
            "('5', 'Nishant. Salchichas S.A.', 'Jain', 'Spain', '22', 'xxxxxxxxxx', \b\b),\n",
            "\b\b;\n",
            "\n",
            "SELECT * FROM customer;\n"
          ]
        }
      ]
    },
    {
      "cell_type": "code",
      "source": [
        "%%sql\n",
        "/*\n",
        "!pip install \"SQLAlchemy<1.4\"\n",
        "\n",
        "%reload_ext sql\n",
        "\n",
        "%%sql sqlite:///vicks.db\n",
        "*/\n",
        "\n",
        "DROP TABLE customer;\n",
        "\n",
        "CREATE TABLE customer (\n",
        "customer_id VARCHAR(100),\n",
        "customername VARCHAR(100),\n",
        "lastname VARCHAR(100),\n",
        "country VARCHAR(100),\n",
        "age VARCHAR(100),\n",
        "phone VARCHAR(100)\n",
        ");\n",
        "\n",
        "INSERT INTO customer (customer_id, customername, lastname, country, age, phone)\n",
        "VALUES\n",
        "('1', 'Shubham', 'Thakur', 'India', '23', 'xxxxxxxxxx'),\n",
        "('2', 'Aman', 'Chopra', 'Australia', '21', 'xxxxxxxxxx'),\n",
        "('3', 'Naveen', 'Tulasi', 'Sri Lanka', '24', 'xxxxxxxxxx'),\n",
        "('4', 'Aditya', 'Arpan', 'Austria', '21', 'xxxxxxxxxx'),\n",
        "('5', 'Nishant. Salchichas S.A.', 'Jain', 'Spain', '22', 'xxxxxxxxxx');\n",
        "\n",
        "SELECT * FROM customer;"
      ],
      "metadata": {
        "colab": {
          "base_uri": "https://localhost:8080/",
          "height": 231
        },
        "id": "LZcpNir4asIw",
        "outputId": "713766b8-e63e-4846-849d-42832ce26069"
      },
      "execution_count": 16,
      "outputs": [
        {
          "output_type": "stream",
          "name": "stdout",
          "text": [
            " * sqlite:///testDB.db\n",
            "Done.\n",
            "Done.\n",
            "5 rows affected.\n",
            "Done.\n"
          ]
        },
        {
          "output_type": "execute_result",
          "data": {
            "text/plain": [
              "[('1', 'Shubham', 'Thakur', 'India', '23', 'xxxxxxxxxx'),\n",
              " ('2', 'Aman', 'Chopra', 'Australia', '21', 'xxxxxxxxxx'),\n",
              " ('3', 'Naveen', 'Tulasi', 'Sri Lanka', '24', 'xxxxxxxxxx'),\n",
              " ('4', 'Aditya', 'Arpan', 'Austria', '21', 'xxxxxxxxxx'),\n",
              " ('5', 'Nishant. Salchichas S.A.', 'Jain', 'Spain', '22', 'xxxxxxxxxx')]"
            ],
            "text/html": [
              "<table>\n",
              "    <tr>\n",
              "        <th>customer_id</th>\n",
              "        <th>customername</th>\n",
              "        <th>lastname</th>\n",
              "        <th>country</th>\n",
              "        <th>age</th>\n",
              "        <th>phone</th>\n",
              "    </tr>\n",
              "    <tr>\n",
              "        <td>1</td>\n",
              "        <td>Shubham</td>\n",
              "        <td>Thakur</td>\n",
              "        <td>India</td>\n",
              "        <td>23</td>\n",
              "        <td>xxxxxxxxxx</td>\n",
              "    </tr>\n",
              "    <tr>\n",
              "        <td>2</td>\n",
              "        <td>Aman</td>\n",
              "        <td>Chopra</td>\n",
              "        <td>Australia</td>\n",
              "        <td>21</td>\n",
              "        <td>xxxxxxxxxx</td>\n",
              "    </tr>\n",
              "    <tr>\n",
              "        <td>3</td>\n",
              "        <td>Naveen</td>\n",
              "        <td>Tulasi</td>\n",
              "        <td>Sri Lanka</td>\n",
              "        <td>24</td>\n",
              "        <td>xxxxxxxxxx</td>\n",
              "    </tr>\n",
              "    <tr>\n",
              "        <td>4</td>\n",
              "        <td>Aditya</td>\n",
              "        <td>Arpan</td>\n",
              "        <td>Austria</td>\n",
              "        <td>21</td>\n",
              "        <td>xxxxxxxxxx</td>\n",
              "    </tr>\n",
              "    <tr>\n",
              "        <td>5</td>\n",
              "        <td>Nishant. Salchichas S.A.</td>\n",
              "        <td>Jain</td>\n",
              "        <td>Spain</td>\n",
              "        <td>22</td>\n",
              "        <td>xxxxxxxxxx</td>\n",
              "    </tr>\n",
              "</table>"
            ]
          },
          "metadata": {},
          "execution_count": 16
        }
      ]
    },
    {
      "cell_type": "code",
      "source": [
        "!pip install csv2sqltable -U"
      ],
      "metadata": {
        "colab": {
          "base_uri": "https://localhost:8080/"
        },
        "id": "UVkTLYvXauPO",
        "outputId": "83a9503e-e0c6-4edb-a934-fbe8e4893bb0"
      },
      "execution_count": 17,
      "outputs": [
        {
          "output_type": "stream",
          "name": "stdout",
          "text": [
            "Looking in indexes: https://pypi.org/simple, https://us-python.pkg.dev/colab-wheels/public/simple/\n",
            "Requirement already satisfied: csv2sqltable in /usr/local/lib/python3.10/dist-packages (0.0.4)\n"
          ]
        }
      ]
    },
    {
      "cell_type": "code",
      "source": [
        "import csv2sqltable.convert as c2s\n",
        "c2s"
      ],
      "metadata": {
        "colab": {
          "base_uri": "https://localhost:8080/"
        },
        "id": "mBqh-4lUh2sm",
        "outputId": "2cb4e52b-212e-43a6-9bf3-6fb732fdfb42"
      },
      "execution_count": 18,
      "outputs": [
        {
          "output_type": "execute_result",
          "data": {
            "text/plain": [
              "<module 'csv2sqltable.convert' from '/usr/local/lib/python3.10/dist-packages/csv2sqltable/convert.py'>"
            ]
          },
          "metadata": {},
          "execution_count": 18
        }
      ]
    },
    {
      "cell_type": "code",
      "source": [
        "help(c2s)"
      ],
      "metadata": {
        "colab": {
          "base_uri": "https://localhost:8080/"
        },
        "id": "eLEGSMZ5fZSh",
        "outputId": "dcaf8516-c931-4b17-a457-a507b05659c9"
      },
      "execution_count": 19,
      "outputs": [
        {
          "output_type": "stream",
          "name": "stdout",
          "text": [
            "Help on module csv2sqltable.convert in csv2sqltable:\n",
            "\n",
            "NAME\n",
            "    csv2sqltable.convert\n",
            "\n",
            "FUNCTIONS\n",
            "    transform(file_name='student.csv')\n",
            "\n",
            "FILE\n",
            "    /usr/local/lib/python3.10/dist-packages/csv2sqltable/convert.py\n",
            "\n",
            "\n"
          ]
        }
      ]
    },
    {
      "cell_type": "code",
      "source": [
        "tbl = c2s.transform('/content/customer.csv')\n",
        "print(tbl)"
      ],
      "metadata": {
        "colab": {
          "base_uri": "https://localhost:8080/"
        },
        "id": "zaUO6L8rfjVj",
        "outputId": "66acbf48-16fa-4e2f-fc14-eec9b1937268"
      },
      "execution_count": 20,
      "outputs": [
        {
          "output_type": "stream",
          "name": "stdout",
          "text": [
            "%%sql\n",
            "/*\n",
            "!pip install \"SQLAlchemy<1.4\"\n",
            "\n",
            "%reload_ext sql\n",
            "\n",
            "%%sql sqlite:///vicks.db\n",
            "*/\n",
            "\n",
            "-- DROP TABLE /content/customer;\n",
            "\n",
            "CREATE TABLE /content/customer (\n",
            "customer_id VARCHAR(100),\n",
            "customername VARCHAR(100),\n",
            "lastname VARCHAR(100),\n",
            "country VARCHAR(100),\n",
            "age VARCHAR(100),\n",
            "phone VARCHAR(100),\n",
            "\b\b\n",
            ");\n",
            "\n",
            "INSERT INTO /content/customer (customer_id, customername, lastname, country, age, phone, \b\b)\n",
            "VALUES\n",
            "('1', 'Shubham', 'Thakur', 'India', '23', 'xxxxxxxxxx', \b\b),\n",
            "('2', 'Aman', 'Chopra', 'Australia', '21', 'xxxxxxxxxx', \b\b),\n",
            "('3', 'Naveen', 'Tulasi', 'Sri Lanka', '24', 'xxxxxxxxxx', \b\b),\n",
            "('4', 'Aditya', 'Arpan', 'Austria', '21', 'xxxxxxxxxx', \b\b),\n",
            "('5', 'Nishant. Salchichas S.A.', 'Jain', 'Spain', '22', 'xxxxxxxxxx', \b\b),\n",
            "\b\b;\n",
            "\n",
            "SELECT * FROM /content/customer;\n"
          ]
        }
      ]
    },
    {
      "cell_type": "code",
      "source": [
        "import csv2sqltable.convert as c2s\n",
        "print(c2s.transform('employee.csv'))"
      ],
      "metadata": {
        "colab": {
          "base_uri": "https://localhost:8080/"
        },
        "id": "1-9RmDGkiL_4",
        "outputId": "edefc69d-d345-437c-fa3a-5f3107438700"
      },
      "execution_count": 22,
      "outputs": [
        {
          "output_type": "stream",
          "name": "stdout",
          "text": [
            "%%sql\n",
            "/*\n",
            "!pip install \"SQLAlchemy<1.4\"\n",
            "\n",
            "%reload_ext sql\n",
            "\n",
            "%%sql sqlite:///vicks.db\n",
            "*/\n",
            "\n",
            "-- DROP TABLE employee;\n",
            "\n",
            "CREATE TABLE employee (\n",
            "employee_id VARCHAR(100),\n",
            "employee_name VARCHAR(100),\n",
            "salary VARCHAR(100),\n",
            "\b\b\n",
            ");\n",
            "\n",
            "INSERT INTO employee (employee_id, employee_name, salary, \b\b)\n",
            "VALUES\n",
            "('1', 'Shubham', '25000', \b\b),\n",
            "('2', 'Aman', '55100', \b\b),\n",
            "('3', 'Naveen', '52100', \b\b),\n",
            "('4', 'Aditya', '12412', \b\b),\n",
            "('5', 'Nishant', '62202', \b\b),\n",
            "\b\b;\n",
            "\n",
            "SELECT * FROM employee;\n"
          ]
        }
      ]
    },
    {
      "cell_type": "code",
      "source": [
        "%%sql\n",
        "/*\n",
        "!pip install \"SQLAlchemy<1.4\"\n",
        "\n",
        "%reload_ext sql\n",
        "\n",
        "%%sql sqlite:///vicks.db\n",
        "*/\n",
        "\n",
        "-- DROP TABLE employee;\n",
        "\n",
        "CREATE TABLE employee (\n",
        "employee_id VARCHAR(100),\n",
        "employee_name VARCHAR(100),\n",
        "salary VARCHAR(100)\n",
        ");\n",
        "\n",
        "INSERT INTO employee (employee_id, employee_name, salary)\n",
        "VALUES\n",
        "('1', 'Shubham', '25000'),\n",
        "('2', 'Aman', '55100'),\n",
        "('3', 'Naveen', '52100'),\n",
        "('4', 'Aditya', '12412'),\n",
        "('5', 'Nishant', '62202');\n",
        "\n",
        "SELECT * FROM employee;"
      ],
      "metadata": {
        "colab": {
          "base_uri": "https://localhost:8080/",
          "height": 231
        },
        "id": "R82Np9pjjbfu",
        "outputId": "5afe3766-7de6-4950-f3fb-9d2c02a6898d"
      },
      "execution_count": 23,
      "outputs": [
        {
          "output_type": "stream",
          "name": "stdout",
          "text": [
            " * sqlite:///testDB.db\n",
            "Done.\n",
            "Done.\n",
            "5 rows affected.\n",
            "Done.\n"
          ]
        },
        {
          "output_type": "execute_result",
          "data": {
            "text/plain": [
              "[('1', 'Shubham', '25000'),\n",
              " ('2', 'Aman', '55100'),\n",
              " ('3', 'Naveen', '52100'),\n",
              " ('4', 'Aditya', '12412'),\n",
              " ('5', 'Nishant', '62202')]"
            ],
            "text/html": [
              "<table>\n",
              "    <tr>\n",
              "        <th>employee_id</th>\n",
              "        <th>employee_name</th>\n",
              "        <th>salary</th>\n",
              "    </tr>\n",
              "    <tr>\n",
              "        <td>1</td>\n",
              "        <td>Shubham</td>\n",
              "        <td>25000</td>\n",
              "    </tr>\n",
              "    <tr>\n",
              "        <td>2</td>\n",
              "        <td>Aman</td>\n",
              "        <td>55100</td>\n",
              "    </tr>\n",
              "    <tr>\n",
              "        <td>3</td>\n",
              "        <td>Naveen</td>\n",
              "        <td>52100</td>\n",
              "    </tr>\n",
              "    <tr>\n",
              "        <td>4</td>\n",
              "        <td>Aditya</td>\n",
              "        <td>12412</td>\n",
              "    </tr>\n",
              "    <tr>\n",
              "        <td>5</td>\n",
              "        <td>Nishant</td>\n",
              "        <td>62202</td>\n",
              "    </tr>\n",
              "</table>"
            ]
          },
          "metadata": {},
          "execution_count": 23
        }
      ]
    },
    {
      "cell_type": "code",
      "source": [],
      "metadata": {
        "id": "Lrr6Yicmmjvm"
      },
      "execution_count": null,
      "outputs": []
    }
  ]
}